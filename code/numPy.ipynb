{
 "cells": [
  {
   "cell_type": "code",
   "execution_count": null,
   "id": "299c4ade",
   "metadata": {},
   "outputs": [],
   "source": [
    "import numpy as np\n",
    "s=np.array([1,2,4])\n",
    "s"
   ]
  },
  {
   "cell_type": "code",
   "execution_count": null,
   "id": "a6906746",
   "metadata": {},
   "outputs": [],
   "source": [
    "b=np.array([[1,2,4],[2.5,3,7.6]],dtype='float')\n",
    "print(b)\n",
    "print(b.ndim)\n",
    "print(b.shape)\n",
    "print(b.dtype)\n",
    "print(b.itemsize)\n",
    "print(b.size*b.itemsize)\n",
    "print(b.nbytes)"
   ]
  },
  {
   "cell_type": "code",
   "execution_count": null,
   "id": "09765e02",
   "metadata": {},
   "outputs": [],
   "source": [
    "c=np.array([[1,2,3,4,5,6,7],[5,3,8,3,76,34,23]])\n",
    "print(c[1,5]) #get a specific element\n",
    "print(c[-1,-1])\n",
    "print(c[0])#get a specific row\n",
    "print(c[0,:])\n",
    "print(c[:,2])#get a specific column\n",
    "print(c[1,2:5:2])\n",
    "c[1,4]=600\n",
    "c[:,2]=[1,6]\n",
    "c\n"
   ]
  },
  {
   "cell_type": "code",
   "execution_count": null,
   "id": "4a1d9df4",
   "metadata": {},
   "outputs": [],
   "source": [
    "d=np.array([[[1,2],[3,5]],[[5,3],[8,99]]])\n",
    "print(d[:,1,:])\n",
    "print(d[1,1,1])\n",
    "d[:,1,:]=[[6,6],[8,5]]\n",
    "d\n"
   ]
  },
  {
   "cell_type": "code",
   "execution_count": null,
   "id": "cc484f50",
   "metadata": {},
   "outputs": [],
   "source": [
    "x=np.zeros((3,4,2))\n",
    "y=np.ones((3,4,2),dtype='int32')\n",
    "z=np.full((2,2),55,dtype=\"float64\")"
   ]
  },
  {
   "cell_type": "code",
   "execution_count": null,
   "id": "4d5ae72a",
   "metadata": {},
   "outputs": [],
   "source": [
    "x=np.full_like(y,5)\n",
    "y=np.random.rand(3,2)\n",
    "z=np.random.random_sample(y.shape)\n",
    "y=np.random.randint(7,size=(3,4))\n",
    "y"
   ]
  },
  {
   "cell_type": "code",
   "execution_count": null,
   "id": "b05d9908",
   "metadata": {},
   "outputs": [],
   "source": [
    "y=np.identity(2)\n",
    "z=np.eye(4)\n",
    "arr=np.array([1,2,3])\n",
    "ar1=np.repeat(arr,3)\n",
    "print(ar1)"
   ]
  },
  {
   "cell_type": "code",
   "execution_count": null,
   "id": "e42a16d8",
   "metadata": {},
   "outputs": [],
   "source": [
    "arr=np.array([[1,2,3]])\n",
    "ar1=np.repeat(arr,3,axis=0)\n",
    "print(ar1)\n",
    "arr=ar1.copy()"
   ]
  },
  {
   "cell_type": "code",
   "execution_count": null,
   "id": "a4dfa2ed",
   "metadata": {},
   "outputs": [],
   "source": []
  },
  {
   "cell_type": "code",
   "execution_count": null,
   "id": "b508e47d",
   "metadata": {},
   "outputs": [],
   "source": [
    "size=(5,5)\n",
    "z=np.zeros(size, dtype='int32')\n",
    "z[:,0]=1\n",
    "matrix = [[1 if row in [0,4] or col in [0,4] else 0 for col in range(5)] for row in range(5)]\n",
    "matrix[2][2]=9\n",
    "matrix"
   ]
  },
  {
   "cell_type": "code",
   "execution_count": null,
   "id": "4ed9f2b8",
   "metadata": {},
   "outputs": [],
   "source": [
    "output = np.ones((5, 5))\n",
    "x = np.zeros((3, 3))\n",
    "x[1, 1] = 9\n",
    "output[1:-1, 1:-1] = x\n",
    "print(output)\n"
   ]
  },
  {
   "cell_type": "code",
   "execution_count": null,
   "id": "fb9125f5",
   "metadata": {},
   "outputs": [],
   "source": [
    "a=np.array([1,5,6,7,3],dtype='float') \n",
    "print(a*2)\n",
    "print(a/2)\n",
    "print(a+a)\n",
    "print(a**2)\n",
    "print(np.cos(a))\n",
    "print()\n",
    "print()"
   ]
  },
  {
   "cell_type": "code",
   "execution_count": null,
   "id": "c16c583e",
   "metadata": {},
   "outputs": [],
   "source": [
    "a=np.full((2,4),1)\n",
    "b=np.array([[2],[4],[5],[7]])\n",
    "print(np.matmul(a,b))"
   ]
  },
  {
   "cell_type": "code",
   "execution_count": null,
   "id": "7d7c1627",
   "metadata": {},
   "outputs": [],
   "source": [
    "c=np.identity(3)\n",
    "print(np.linalg.det(c))"
   ]
  },
  {
   "cell_type": "code",
   "execution_count": null,
   "id": "245822c7",
   "metadata": {},
   "outputs": [],
   "source": [
    "f=np.random.randint(8,size=(3,6))\n",
    "print(np.min(f))\n",
    "print(np.min(f,axis=0))\n",
    "print(np.max(f,axis=0))\n",
    "print(np.max(f))\n",
    "print(np.sum(f))"
   ]
  },
  {
   "cell_type": "code",
   "execution_count": null,
   "id": "7daeb0ca",
   "metadata": {},
   "outputs": [],
   "source": [
    "before=np.array([[1,2,3,4],[7,5,4,2]]) #the shape must have the same amount o elements\n",
    "print(before)\n",
    "after=before.reshape((4,2))\n",
    "print(after)\n",
    "after2=before.reshape((2,2,2))\n",
    "print(after2)"
   ]
  },
  {
   "cell_type": "code",
   "execution_count": null,
   "id": "82bec490",
   "metadata": {},
   "outputs": [],
   "source": [
    "a=np.array([1,5,6,7,3],dtype='float') \n",
    "b=np.array([43,433,35,3,872],dtype='float') \n",
    "print(np.vstack([a,b,a,b]))"
   ]
  },
  {
   "cell_type": "code",
   "execution_count": null,
   "id": "706a7e1b",
   "metadata": {},
   "outputs": [],
   "source": [
    "h1=np.ones((2,4))\n",
    "h2=np.zeros((2,2))\n",
    "print(np.hstack([h1,h2]))"
   ]
  },
  {
   "cell_type": "code",
   "execution_count": null,
   "id": "ca1956e0",
   "metadata": {},
   "outputs": [],
   "source": [
    "filedata = np.genfromtxt('data.txt', delimiter=',')\n",
    "filedata = filedata.astype('int32')\n",
    "print(filedata)\n",
    "print(filedata>30)\n",
    "print(filedata[filedata>50])"
   ]
  },
  {
   "cell_type": "code",
   "execution_count": null,
   "id": "6ca8a401",
   "metadata": {},
   "outputs": [],
   "source": [
    "k=(~(filedata>50)&(filedata<100))\n",
    "print(filedata[0:3,4:7])\n",
    "print()\n",
    "print(filedata[[0,1,2],[3,4,5]])\n",
    "print()\n",
    "print(filedata[0:-2:,3:5])"
   ]
  },
  {
   "cell_type": "code",
   "execution_count": null,
   "id": "7d9e2e13",
   "metadata": {},
   "outputs": [],
   "source": [
    "a=np.array([1,2,3,4,5,6,7,8,5])\n",
    "print(a[[2,3,4]])"
   ]
  }
 ],
 "metadata": {
  "kernelspec": {
   "display_name": "Python 3 (ipykernel)",
   "language": "python",
   "name": "python3"
  },
  "language_info": {
   "codemirror_mode": {
    "name": "ipython",
    "version": 3
   },
   "file_extension": ".py",
   "mimetype": "text/x-python",
   "name": "python",
   "nbconvert_exporter": "python",
   "pygments_lexer": "ipython3",
   "version": "3.12.1"
  }
 },
 "nbformat": 4,
 "nbformat_minor": 5
}
